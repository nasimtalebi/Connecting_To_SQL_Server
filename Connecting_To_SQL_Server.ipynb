{
 "cells": [
  {
   "cell_type": "code",
   "execution_count": 10,
   "id": "cfa6efee-7823-4def-8916-912f7acef939",
   "metadata": {},
   "outputs": [
    {
     "name": "stdout",
     "output_type": "stream",
     "text": [
      "Collecting pyxlsb\n",
      "  Downloading pyxlsb-1.0.10-py2.py3-none-any.whl.metadata (2.5 kB)\n",
      "Downloading pyxlsb-1.0.10-py2.py3-none-any.whl (23 kB)\n",
      "Installing collected packages: pyxlsb\n",
      "Successfully installed pyxlsb-1.0.10\n",
      "Note: you may need to restart the kernel to use updated packages.\n"
     ]
    }
   ],
   "source": [
    "pip install pyxlsb"
   ]
  },
  {
   "cell_type": "code",
   "execution_count": 1,
   "id": "86d95b1d-05c5-4acf-9bb5-1e284a9404d5",
   "metadata": {},
   "outputs": [],
   "source": [
    "import pandas as pd\n",
    "import pyodbc\n",
    "import pyxlsb"
   ]
  },
  {
   "cell_type": "code",
   "execution_count": 2,
   "id": "245a7954-38d1-4406-9b04-c449b498a78a",
   "metadata": {},
   "outputs": [],
   "source": [
    "conn_str = (     r'driver={SQL Server};' \n",
    "            r'server=(local);'   \n",
    "            r'database=ODS;'   \n",
    "            r'trusted_connection=yes;'    ) \n",
    "cnxn = pyodbc.connect(conn_str) \n",
    "cursor = cnxn.cursor()"
   ]
  },
  {
   "cell_type": "code",
   "execution_count": 3,
   "id": "a4434568-2554-4579-8389-b7b9e0c64e53",
   "metadata": {},
   "outputs": [],
   "source": [
    "# Define the table name\n",
    "table_name = 'Nasim'"
   ]
  },
  {
   "cell_type": "code",
   "execution_count": 11,
   "id": "be6d70e5-ee48-47d4-bc2c-a1808cd8c271",
   "metadata": {},
   "outputs": [],
   "source": [
    "# the Address for data\n",
    "#file=\"F:\\DWH\\DWH_IMPORT\\PIM Data\\PIM_Data_2024-04-02_09-23-43.xlsx\"\n",
    "url=\"F:\\DWH\\Phyton\\PIM.xlsx\""
   ]
  },
  {
   "cell_type": "code",
   "execution_count": 12,
   "id": "c29e28ba-b733-4e91-bd22-690e8f49355c",
   "metadata": {},
   "outputs": [],
   "source": [
    "data=pd.read_excel(url)"
   ]
  },
  {
   "cell_type": "code",
   "execution_count": 13,
   "id": "d73e351c-10c7-40f5-8c4a-2ad317ed3955",
   "metadata": {},
   "outputs": [
    {
     "name": "stdout",
     "output_type": "stream",
     "text": [
      "<class 'pandas.core.frame.DataFrame'>\n",
      "RangeIndex: 2 entries, 0 to 1\n",
      "Data columns (total 6 columns):\n",
      " #   Column            Non-Null Count  Dtype \n",
      "---  ------            --------------  ----- \n",
      " 0   sys_id            2 non-null      int64 \n",
      " 1   sys_entitytype    2 non-null      object\n",
      " 2   ProductLevel0     2 non-null      object\n",
      " 3   ProductLevel0_en  2 non-null      object\n",
      " 4   ProductLevel1     2 non-null      object\n",
      " 5   ProductLevel1_en  2 non-null      object\n",
      "dtypes: int64(1), object(5)\n",
      "memory usage: 228.0+ bytes\n"
     ]
    }
   ],
   "source": [
    "df = pd.DataFrame(data)\n",
    "df.info()"
   ]
  },
  {
   "cell_type": "code",
   "execution_count": 14,
   "id": "0f46ad7c-2555-459a-a9d0-379b43e4ec56",
   "metadata": {},
   "outputs": [],
   "source": [
    "df.fillna('', inplace=True)"
   ]
  },
  {
   "cell_type": "code",
   "execution_count": 17,
   "id": "d7663cd3-ed1d-42b4-8060-e173b2a8241c",
   "metadata": {},
   "outputs": [
    {
     "data": {
      "text/plain": [
       "2"
      ]
     },
     "execution_count": 17,
     "metadata": {},
     "output_type": "execute_result"
    }
   ],
   "source": [
    "# the number of rows\n",
    "\n",
    "countRows=df.shape[0]\n",
    "countRows"
   ]
  },
  {
   "cell_type": "code",
   "execution_count": null,
   "id": "f71d51ea-ed0c-4f15-af65-2166944d54c9",
   "metadata": {},
   "outputs": [],
   "source": [
    "countRows= count"
   ]
  },
  {
   "cell_type": "markdown",
   "id": "4ea993f0-7af3-41fb-bdbc-517716902a7a",
   "metadata": {},
   "source": [
    "## Creat table in SQL"
   ]
  },
  {
   "cell_type": "code",
   "execution_count": 9,
   "id": "578a663b-b7a3-4ba2-b69a-e295db2eb943",
   "metadata": {},
   "outputs": [
    {
     "name": "stdout",
     "output_type": "stream",
     "text": [
      "[DataAreaID] VARCHAR(100), [InventLocationID] VARCHAR(100), [WarehouseName] VARCHAR(100), [ProductID] VARCHAR(100), [GlobalProductNumber] VARCHAR(100), [ProductDescription] VARCHAR(100), [ProductGroupID] VARCHAR(100), [ProductGroup] VARCHAR(100), [StockOnHand] FLOAT, [StockValue] VARCHAR(100), [QtyOnOrder] FLOAT, [AvailForOrder] FLOAT, [PhysicalInvent] FLOAT, [InventDate] FLOAT, [Week] INT\n"
     ]
    }
   ],
   "source": [
    "\n",
    "# Initialize an empty list to store column definitions\n",
    "column_definitions = []\n",
    "\n",
    "# Iterate over column names and data types\n",
    "for column, dtype in df.dtypes.items():\n",
    "    # Enclose the column name in square brackets\n",
    "    column = f'[{column}]'\n",
    "    # Define the data type based on dtype\n",
    "    if dtype == 'object':\n",
    "        data_type = 'VARCHAR(100)'\n",
    "    elif dtype == 'int64':\n",
    "        data_type = 'INT'\n",
    "    elif dtype == 'float64':\n",
    "        data_type = 'FLOAT'\n",
    "    elif dtype == 'bytes':\n",
    "        data_type = 'VARBINARY(MAX)'\n",
    "     elif dtype == 'datetime64[ns]':  # Assuming datetime64[ns] dtype for datetime columns\n",
    "           data_type = 'DATETIME'   \n",
    "    # Append the formatted column definition to the list\n",
    "    column_definitions.append(f'{column} {data_type}')\n",
    "\n",
    "# Join the column definitions into a single string\n",
    "table_definition = ', '.join(column_definitions)\n",
    "\n",
    "# Print the table definition\n",
    "print(table_definition)"
   ]
  },
  {
   "cell_type": "code",
   "execution_count": 11,
   "id": "ca89abe7-78ae-494c-84a7-b3bef8ffdcb2",
   "metadata": {},
   "outputs": [],
   "source": [
    "#Define the table name\n",
    "table_name = 'StockData'\n",
    "\n",
    "#Generate the CREATE TABLE statement with column definitions\n",
    "create_table_query = f'''\n",
    "CREATE TABLE {table_name} (\n",
    "    {table_definition}\n",
    ")\n",
    "'''\n",
    "\n",
    "#Execute the CREATE TABLE statement\n",
    "cursor.execute(create_table_query)\n",
    "cnxn.commit()"
   ]
  },
  {
   "cell_type": "code",
   "execution_count": 42,
   "id": "98b804b5-c467-45c6-a3ca-7e453995fa14",
   "metadata": {},
   "outputs": [
    {
     "data": {
      "text/plain": [
       "'\\nCREATE TABLE SalesData (\\n    SalesID INT, InvoiceID INT, InvoiceDate VARCHAR(100), CustomerID VARCHAR(100), CustomerName VARCHAR(100), CustomerSector VARCHAR(100), MarketSegmentID VARCHAR(100), CustomerType VARCHAR(100), SalesChannel VARCHAR(100), CustomerGroupID VARCHAR(100), Item/ProductID VARCHAR(100), ProductName VARCHAR(100), ProductGroupID VARCHAR(100), ProductGroupName VARCHAR(100), ProductSubgroupCode VARCHAR(100), ProductSubGroupName VARCHAR(100), InvoiceLineNumber INT, Quantity FLOAT, InvoiceLineAmount FLOAT, CurrencyCode VARCHAR(100), PriceUnit INT, SalesUnit VARCHAR(100), UnitPrice FLOAT, CostPrice FLOAT, LineMargin FLOAT, DataAreaID VARCHAR(100)\\n)\\n'"
      ]
     },
     "execution_count": 42,
     "metadata": {},
     "output_type": "execute_result"
    }
   ],
   "source": [
    "create_table_query"
   ]
  },
  {
   "cell_type": "code",
   "execution_count": 12,
   "id": "a2b1dcd7-6c98-4973-95e9-b50dc277c317",
   "metadata": {},
   "outputs": [
    {
     "name": "stdout",
     "output_type": "stream",
     "text": [
      "<class 'pandas.core.frame.DataFrame'>\n",
      "RangeIndex: 56662 entries, 0 to 56661\n",
      "Data columns (total 15 columns):\n",
      " #   Column               Non-Null Count  Dtype  \n",
      "---  ------               --------------  -----  \n",
      " 0   DataAreaID           56662 non-null  object \n",
      " 1   InventLocationID     56662 non-null  object \n",
      " 2   WarehouseName        56662 non-null  object \n",
      " 3   ProductID            56662 non-null  object \n",
      " 4   GlobalProductNumber  56662 non-null  object \n",
      " 5   ProductDescription   56662 non-null  object \n",
      " 6   ProductGroupID       56662 non-null  object \n",
      " 7   ProductGroup         56662 non-null  object \n",
      " 8   StockOnHand          56662 non-null  float64\n",
      " 9   StockValue           56662 non-null  object \n",
      " 10  QtyOnOrder           56662 non-null  float64\n",
      " 11  AvailForOrder        56662 non-null  float64\n",
      " 12  PhysicalInvent       56662 non-null  float64\n",
      " 13  InventDate           56662 non-null  float64\n",
      " 14  Week                 56662 non-null  int64  \n",
      "dtypes: float64(5), int64(1), object(9)\n",
      "memory usage: 6.5+ MB\n"
     ]
    }
   ],
   "source": [
    "df.info()"
   ]
  },
  {
   "cell_type": "markdown",
   "id": "2837acb7-8da6-466c-a363-cb0cf662867f",
   "metadata": {},
   "source": [
    "# Manually creat table"
   ]
  },
  {
   "cell_type": "code",
   "execution_count": 46,
   "id": "147884b0-8da0-4715-b17d-a36bae48211e",
   "metadata": {},
   "outputs": [],
   "source": [
    "cursor.execute('''\n",
    "               CREATE TABLE SalesData\n",
    "                    (SalesID INT NOT NULL,\n",
    "                    InvoiceID  INT NOT NULL,\n",
    "                    InvoiceDate VARCHAR(100) NOT NULL,\n",
    "                    CustomerID VARCHAR(100) NOT NULL,\n",
    "                    CustomerName  VARCHAR(100) NOT NULL,\n",
    "                    CustomerSector  VARCHAR(100) NOT NULL,\n",
    "                    MarketSegmentID VARCHAR(100) NOT NULL,\n",
    "                    CustomerType VARCHAR(100) NOT NULL,\n",
    "                    SalesChannel  VARCHAR(100) NOT NULL,\n",
    "                    CustomerGroupID  VARCHAR(100) NOT NULL,\n",
    "                    [Item/ProductID] VARCHAR(100) NOT NULL,\n",
    "                    ProductName VARCHAR(100) NOT NULL,\n",
    "                    ProductGroupID VARCHAR(100) NOT NULL,\n",
    "                    ProductGroupName VARCHAR(100) NOT NULL,\n",
    "                    ProductSubgroupCode VARCHAR(100) NOT NULL,\n",
    "                    ProductSubGroupName  VARCHAR(100) NOT NULL,\n",
    "                    InvoiceLineNumber INT NOT NULL,\n",
    "                    Quantity FLOAT NOT NULL,\n",
    "                    InvoiceLineAmount FLOAT NOT NULL,\n",
    "                    CurrencyCode VARCHAR(100) NOT NULL,\n",
    "                    PriceUnit INT NOT NULL,\n",
    "                    SalesUnit VARCHAR(100) NOT NULL,\n",
    "                    UnitPrice FLOAT NOT NULL,\n",
    "                    CostPrice FLOAT NOT NULL,\n",
    "                    LineMargin FLOAT NOT NULL,\n",
    "                    DataAreaID VARCHAR(100) NOT NULL,\n",
    "                   )\n",
    "                   \n",
    "               ;\n",
    "               ''')\n",
    "cnxn.commit()"
   ]
  },
  {
   "cell_type": "code",
   "execution_count": 57,
   "id": "53cd74e5-b0eb-4276-8f91-fb5b0131e631",
   "metadata": {},
   "outputs": [
    {
     "name": "stderr",
     "output_type": "stream",
     "text": [
      "C:\\Users\\admin.nasim\\AppData\\Local\\Temp\\2\\ipykernel_7216\\528067318.py:7: UserWarning: pandas only supports SQLAlchemy connectable (engine/connection) or database string URI or sqlite3 DBAPI2 connection. Other DBAPI2 objects are not tested. Please consider using SQLAlchemy.\n",
      "  df_NewDF = pd.read_sql(query, cnxn)\n"
     ]
    },
    {
     "data": {
      "text/html": [
       "<div>\n",
       "<style scoped>\n",
       "    .dataframe tbody tr th:only-of-type {\n",
       "        vertical-align: middle;\n",
       "    }\n",
       "\n",
       "    .dataframe tbody tr th {\n",
       "        vertical-align: top;\n",
       "    }\n",
       "\n",
       "    .dataframe thead th {\n",
       "        text-align: right;\n",
       "    }\n",
       "</style>\n",
       "<table border=\"1\" class=\"dataframe\">\n",
       "  <thead>\n",
       "    <tr style=\"text-align: right;\">\n",
       "      <th></th>\n",
       "      <th>SalesID</th>\n",
       "      <th>InvoiceID</th>\n",
       "      <th>InvoiceDate</th>\n",
       "      <th>CustomerID</th>\n",
       "      <th>CustomerName</th>\n",
       "      <th>CustomerSector</th>\n",
       "      <th>MarketSegmentID</th>\n",
       "      <th>CustomerType</th>\n",
       "      <th>SalesChannel</th>\n",
       "      <th>CustomerGroupID</th>\n",
       "      <th>...</th>\n",
       "      <th>InvoiceLineNumber</th>\n",
       "      <th>Quantity</th>\n",
       "      <th>InvoiceLineAmount</th>\n",
       "      <th>CurrencyCode</th>\n",
       "      <th>PriceUnit</th>\n",
       "      <th>SalesUnit</th>\n",
       "      <th>UnitPrice</th>\n",
       "      <th>CostPrice</th>\n",
       "      <th>LineMargin</th>\n",
       "      <th>DataAreaID</th>\n",
       "    </tr>\n",
       "  </thead>\n",
       "  <tbody>\n",
       "  </tbody>\n",
       "</table>\n",
       "<p>0 rows × 26 columns</p>\n",
       "</div>"
      ],
      "text/plain": [
       "Empty DataFrame\n",
       "Columns: [SalesID, InvoiceID, InvoiceDate, CustomerID, CustomerName, CustomerSector, MarketSegmentID, CustomerType, SalesChannel, CustomerGroupID, Item/ProductID, ProductName, ProductGroupID, ProductGroupName, ProductSubgroupCode, ProductSubGroupName, InvoiceLineNumber, Quantity, InvoiceLineAmount, CurrencyCode, PriceUnit, SalesUnit, UnitPrice, CostPrice, LineMargin, DataAreaID]\n",
       "Index: []\n",
       "\n",
       "[0 rows x 26 columns]"
      ]
     },
     "execution_count": 57,
     "metadata": {},
     "output_type": "execute_result"
    }
   ],
   "source": [
    "query = '''\n",
    "        SELECT * \n",
    "            FROM SalesData\n",
    "        ;\n",
    "            '''\n",
    "\n",
    "df_NewDF = pd.read_sql(query, cnxn)\n",
    "df_NewDF.head(2)"
   ]
  },
  {
   "cell_type": "code",
   "execution_count": 19,
   "id": "3c9ff21e-8cfd-4a57-9fd9-99cb8b999b1d",
   "metadata": {},
   "outputs": [
    {
     "data": {
      "text/plain": [
       "(0, 21)"
      ]
     },
     "execution_count": 19,
     "metadata": {},
     "output_type": "execute_result"
    }
   ],
   "source": [
    "df_NewDF.shape"
   ]
  },
  {
   "cell_type": "markdown",
   "id": "b0e072fa-e3e6-4893-ac36-e9722988f541",
   "metadata": {},
   "source": [
    "# Truncate old values "
   ]
  },
  {
   "cell_type": "markdown",
   "id": "46d680dd-1c32-4ac1-aa13-2aafba9f44f0",
   "metadata": {},
   "source": [
    "cursor.execute( '''\n",
    "        truncate table products\n",
    "        \n",
    "               ;\n",
    "               ''')\n",
    "cnxn.commit()"
   ]
  },
  {
   "cell_type": "code",
   "execution_count": null,
   "id": "bd205574-e62a-4741-9f76-953f488efa04",
   "metadata": {},
   "outputs": [],
   "source": []
  },
  {
   "cell_type": "markdown",
   "id": "40fc6a2a-a179-488b-aa54-e5c525b37a93",
   "metadata": {},
   "source": [
    "for index, row in df.iterrows():\n",
    "     cursor.execute('''\n",
    "                    INSERT INTO dbo.products04 \n",
    "                    (sys_id,\n",
    "                    sys_entitytype,\n",
    "                    ProductLevel0,\n",
    "                    ProductLevel0_en,\n",
    "                    ProductLevel1,\n",
    "                    ProductLevel1_en,\n",
    "                    ProductLevel2,\n",
    "                    ProductLevel2_en,\n",
    "                    ProductLevel3,\n",
    "                    ProductLevel3_en,\n",
    "                    ProductLevel4,\n",
    "                    ProductLevel4_en,\n",
    "                    ProductFamily1,\n",
    "                    [ProductFamily1 (values)],\n",
    "                    ItemNumber,\n",
    "                    ItemLifeCycleStatus,\n",
    "                    [ItemLifeCycleStatus (values)],\n",
    "                    ItemPNSupplier,\n",
    "                    ItemPNHUB,\n",
    "                    ItemPNARG,\n",
    "                    ItemPNAUS,\n",
    "                    ItemPNCOL,\n",
    "                    ItemPNCZ,\n",
    "                    ItemPNFIN,\n",
    "                    ItemPNFR,\n",
    "                    ItemPNLIT,\n",
    "                    ItemPNNL,\n",
    "                    ItemPNOEMCZ,\n",
    "                    ItemPNOEMFRA,\n",
    "                    ItemPNOEMKOR,\n",
    "                    ItemPNOEMPSI,\n",
    "                    ItemPNOEMRHAM,\n",
    "                    ItemPNOEMUK,\n",
    "                    ItemPNPER,\n",
    "                    ItemPNPOL,\n",
    "                    ItemPNSGN,\n",
    "                    ItemPNUAE,\n",
    "                    ItemPNUK,\n",
    "                    ItemPNHYSP,\n",
    "                    ItemPNSEAFR,\n",
    "                    ItemPNRHAU,\n",
    "                    ItemPNRHNZ,\n",
    "                    ItemPNRHZA,\n",
    "                    ItemSupplier,\n",
    "                    [ItemSupplier (values)]) \n",
    "                    values(?,?,?,?,?,?,?,?,?,?,?,?,?,?,?,?,?,?,?,?,?,?,?,?,?,?,?,?,?,?,?,?,?,?,?,?,?,?,?,?,?,?,?,?,?)\n",
    "                    ''', \n",
    "                    row.sys_id, \n",
    "                    row.sys_entitytype, \n",
    "                    row.ProductLevel0, \n",
    "                    row.ProductLevel0_en,\n",
    "                    row.ProductLevel1,\n",
    "                    row.ProductLevel1_en,\n",
    "                    row.ProductLevel2,\n",
    "                    row.ProductLevel2_en,\n",
    "                    row.ProductLevel3,\n",
    "                    row.ProductLevel3_en,\n",
    "                    row.ProductLevel4,\n",
    "                    row.ProductLevel4_en,\n",
    "                    row.ProductFamily1,\n",
    "                    row['ProductFamily1 (values)'],\n",
    "                    row.ItemNumber,\n",
    "                    row.ItemLifeCycleStatus,\n",
    "                    row['ItemLifeCycleStatus (values)'],\n",
    "                    row.ItemPNSupplier,\n",
    "                    row.ItemPNHUB,\n",
    "                    row.ItemPNARG,\n",
    "                    row.ItemPNAUS,\n",
    "                    row.ItemPNCOL,\n",
    "                    row.ItemPNCZ,\n",
    "                    row.ItemPNFIN,\n",
    "                    row.ItemPNFR,\n",
    "                    row.ItemPNLIT,\n",
    "                    row.ItemPNNL,\n",
    "                    row.ItemPNOEMCZ,\n",
    "                    row.ItemPNOEMFRA,\n",
    "                    row.ItemPNOEMKOR,\n",
    "                    row.ItemPNOEMPSI,\n",
    "                    row.ItemPNOEMRHAM,\n",
    "                    row.ItemPNOEMUK,\n",
    "                    row.ItemPNPER,\n",
    "                    row.ItemPNPOL,\n",
    "                    row.ItemPNSGN,\n",
    "                    row.ItemPNUAE,\n",
    "                    row.ItemPNUK,\n",
    "                    row.ItemPNHYSP,\n",
    "                    row.ItemPNSEAFR,\n",
    "                    row.ItemPNRHAU,\n",
    "                    row.ItemPNRHNZ,\n",
    "                    row.ItemPNRHZA,\n",
    "                    row.ItemSupplier,\n",
    "                    row['ItemSupplier (values)'])\n",
    "cnxn.commit()"
   ]
  },
  {
   "cell_type": "code",
   "execution_count": 13,
   "id": "0855c9d8-b190-484c-a0ef-a72c4c48262b",
   "metadata": {},
   "outputs": [
    {
     "data": {
      "text/plain": [
       "['[DataAreaID]',\n",
       " '[InventLocationID]',\n",
       " '[WarehouseName]',\n",
       " '[ProductID]',\n",
       " '[GlobalProductNumber]',\n",
       " '[ProductDescription]',\n",
       " '[ProductGroupID]',\n",
       " '[ProductGroup]',\n",
       " '[StockOnHand]',\n",
       " '[StockValue]',\n",
       " '[QtyOnOrder]',\n",
       " '[AvailForOrder]',\n",
       " '[PhysicalInvent]',\n",
       " '[InventDate]',\n",
       " '[Week]']"
      ]
     },
     "execution_count": 13,
     "metadata": {},
     "output_type": "execute_result"
    }
   ],
   "source": [
    "# Example list of column names for fill the values\n",
    "columns = list(df.columns)\n",
    "\n",
    "# Iterate over the columns\n",
    "for i, column in enumerate(columns):\n",
    "    # Check if there's a space in the column name\n",
    "    #if ' ' in column:\n",
    "        # If there's a space, enclose the column name in square brackets\n",
    "        columns[i] = f'[{column}]'\n",
    "columns"
   ]
  },
  {
   "cell_type": "code",
   "execution_count": 15,
   "id": "5951ba13-ea97-4f53-96eb-906b41803095",
   "metadata": {},
   "outputs": [],
   "source": [
    "#row= [f\"row.{value}\" for value in columns ]"
   ]
  },
  {
   "cell_type": "code",
   "execution_count": 14,
   "id": "3eb1d6e5-99c5-4d80-ac4d-3cabe6b7acc6",
   "metadata": {},
   "outputs": [
    {
     "data": {
      "text/plain": [
       "['row[DataAreaID]',\n",
       " 'row[InventLocationID]',\n",
       " 'row[WarehouseName]',\n",
       " 'row[ProductID]',\n",
       " 'row[GlobalProductNumber]',\n",
       " 'row[ProductDescription]',\n",
       " 'row[ProductGroupID]',\n",
       " 'row[ProductGroup]',\n",
       " 'row[StockOnHand]',\n",
       " 'row[StockValue]',\n",
       " 'row[QtyOnOrder]',\n",
       " 'row[AvailForOrder]',\n",
       " 'row[PhysicalInvent]',\n",
       " 'row[InventDate]',\n",
       " 'row[Week]']"
      ]
     },
     "execution_count": 14,
     "metadata": {},
     "output_type": "execute_result"
    }
   ],
   "source": [
    "# Example list of column names for fill the values\n",
    "row = [f\"row{value}\" if value.startswith('[') and value.endswith(']') else f\"row.{value}\" for value in columns]\n",
    "row"
   ]
  },
  {
   "cell_type": "code",
   "execution_count": 15,
   "id": "50438dc5-c078-47a6-973f-de21d6efb43d",
   "metadata": {},
   "outputs": [],
   "source": [
    "#Query for Insert the row values to table in SQL Server\n",
    "\n",
    "insert_query = f'''\n",
    "    INSERT INTO StockData \n",
    "    ({', '.join(columns)})\n",
    "    VALUES ({', '.join(['?' for _ in columns])})\n",
    "'''\n",
    "\n",
    "# Iterate over rows in the DataFrame\n",
    "for index, row in df.iterrows():\n",
    "    # Execute the SQL insert statement with row values\n",
    "    cursor.execute(insert_query, tuple(row))\n",
    "\n",
    "# Commit the transaction\n",
    "cnxn.commit()\n",
    "                    "
   ]
  },
  {
   "cell_type": "code",
   "execution_count": 16,
   "id": "b68c2348-0c78-44be-9b93-cc36affae782",
   "metadata": {},
   "outputs": [
    {
     "name": "stderr",
     "output_type": "stream",
     "text": [
      "C:\\Users\\admin.nasim\\AppData\\Local\\Temp\\2\\ipykernel_34924\\461663626.py:7: UserWarning: pandas only supports SQLAlchemy connectable (engine/connection) or database string URI or sqlite3 DBAPI2 connection. Other DBAPI2 objects are not tested. Please consider using SQLAlchemy.\n",
      "  NewDF02 = pd.read_sql(query, cnxn)\n"
     ]
    },
    {
     "data": {
      "text/html": [
       "<div>\n",
       "<style scoped>\n",
       "    .dataframe tbody tr th:only-of-type {\n",
       "        vertical-align: middle;\n",
       "    }\n",
       "\n",
       "    .dataframe tbody tr th {\n",
       "        vertical-align: top;\n",
       "    }\n",
       "\n",
       "    .dataframe thead th {\n",
       "        text-align: right;\n",
       "    }\n",
       "</style>\n",
       "<table border=\"1\" class=\"dataframe\">\n",
       "  <thead>\n",
       "    <tr style=\"text-align: right;\">\n",
       "      <th></th>\n",
       "      <th>DataAreaID</th>\n",
       "      <th>InventLocationID</th>\n",
       "      <th>WarehouseName</th>\n",
       "      <th>ProductID</th>\n",
       "      <th>GlobalProductNumber</th>\n",
       "      <th>ProductDescription</th>\n",
       "      <th>ProductGroupID</th>\n",
       "      <th>ProductGroup</th>\n",
       "      <th>StockOnHand</th>\n",
       "      <th>StockValue</th>\n",
       "      <th>QtyOnOrder</th>\n",
       "      <th>AvailForOrder</th>\n",
       "      <th>PhysicalInvent</th>\n",
       "      <th>InventDate</th>\n",
       "      <th>Week</th>\n",
       "    </tr>\n",
       "  </thead>\n",
       "  <tbody>\n",
       "    <tr>\n",
       "      <th>0</th>\n",
       "      <td>RHAU</td>\n",
       "      <td>030</td>\n",
       "      <td>Melbourne</td>\n",
       "      <td>10-10SS</td>\n",
       "      <td>10-10SS</td>\n",
       "      <td>M16X1.5 FEMALE NUT SS316                      ...</td>\n",
       "      <td>MADACOM</td>\n",
       "      <td>Adaptors Componentry</td>\n",
       "      <td>2.0</td>\n",
       "      <td>9.5378</td>\n",
       "      <td>0.0</td>\n",
       "      <td>2.0</td>\n",
       "      <td>2.0</td>\n",
       "      <td>45394.2775</td>\n",
       "      <td>15</td>\n",
       "    </tr>\n",
       "    <tr>\n",
       "      <th>1</th>\n",
       "      <td>RHAU</td>\n",
       "      <td>030</td>\n",
       "      <td>Melbourne</td>\n",
       "      <td>10-21/ASC</td>\n",
       "      <td>10-21/ASC</td>\n",
       "      <td>DGS1043 GR1 M20*1.5 FEMALE NUT                ...</td>\n",
       "      <td>MADACOM</td>\n",
       "      <td>Adaptors Componentry</td>\n",
       "      <td>79.0</td>\n",
       "      <td>452.733</td>\n",
       "      <td>0.0</td>\n",
       "      <td>79.0</td>\n",
       "      <td>79.0</td>\n",
       "      <td>45394.2775</td>\n",
       "      <td>15</td>\n",
       "    </tr>\n",
       "    <tr>\n",
       "      <th>2</th>\n",
       "      <td>RHAU</td>\n",
       "      <td>030</td>\n",
       "      <td>Melbourne</td>\n",
       "      <td>10-21DGS</td>\n",
       "      <td>10-21DGS</td>\n",
       "      <td>DGS1043 M20*1.5 FEMALE NUT</td>\n",
       "      <td>MADACOM</td>\n",
       "      <td>Adaptors Componentry</td>\n",
       "      <td>28.0</td>\n",
       "      <td>375.262</td>\n",
       "      <td>0.0</td>\n",
       "      <td>28.0</td>\n",
       "      <td>28.0</td>\n",
       "      <td>45394.2775</td>\n",
       "      <td>15</td>\n",
       "    </tr>\n",
       "    <tr>\n",
       "      <th>3</th>\n",
       "      <td>RHAU</td>\n",
       "      <td>030</td>\n",
       "      <td>Melbourne</td>\n",
       "      <td>10-21SS</td>\n",
       "      <td>10-21SS</td>\n",
       "      <td>M20X1.5 FEMALE NUT SS316                      ...</td>\n",
       "      <td>MADACOM</td>\n",
       "      <td>Adaptors Componentry</td>\n",
       "      <td>27.0</td>\n",
       "      <td>123.863</td>\n",
       "      <td>0.0</td>\n",
       "      <td>27.0</td>\n",
       "      <td>27.0</td>\n",
       "      <td>45394.2775</td>\n",
       "      <td>15</td>\n",
       "    </tr>\n",
       "    <tr>\n",
       "      <th>4</th>\n",
       "      <td>RHAU</td>\n",
       "      <td>030</td>\n",
       "      <td>Melbourne</td>\n",
       "      <td>10-21SS0</td>\n",
       "      <td>10-21SS0</td>\n",
       "      <td>SS316 M20* SLIP ON FEMALE NUT                 ...</td>\n",
       "      <td>MADACOM</td>\n",
       "      <td>Adaptors Componentry</td>\n",
       "      <td>5.0</td>\n",
       "      <td>26.0945</td>\n",
       "      <td>0.0</td>\n",
       "      <td>5.0</td>\n",
       "      <td>5.0</td>\n",
       "      <td>45394.2775</td>\n",
       "      <td>15</td>\n",
       "    </tr>\n",
       "    <tr>\n",
       "      <th>...</th>\n",
       "      <td>...</td>\n",
       "      <td>...</td>\n",
       "      <td>...</td>\n",
       "      <td>...</td>\n",
       "      <td>...</td>\n",
       "      <td>...</td>\n",
       "      <td>...</td>\n",
       "      <td>...</td>\n",
       "      <td>...</td>\n",
       "      <td>...</td>\n",
       "      <td>...</td>\n",
       "      <td>...</td>\n",
       "      <td>...</td>\n",
       "      <td>...</td>\n",
       "      <td>...</td>\n",
       "    </tr>\n",
       "    <tr>\n",
       "      <th>56657</th>\n",
       "      <td>FLCUSA</td>\n",
       "      <td>OEM</td>\n",
       "      <td>Houston OEM - (HOU)</td>\n",
       "      <td>XMIKALOR34-37MM</td>\n",
       "      <td>XMIKALOR34-37MM</td>\n",
       "      <td>MIKALOR CLAMP 34-37MM</td>\n",
       "      <td>SACCMCL</td>\n",
       "      <td>Mounting Clamps</td>\n",
       "      <td>340.0</td>\n",
       "      <td>813.366</td>\n",
       "      <td>600.0</td>\n",
       "      <td>260.0</td>\n",
       "      <td>340.0</td>\n",
       "      <td>45394.2775</td>\n",
       "      <td>15</td>\n",
       "    </tr>\n",
       "    <tr>\n",
       "      <th>56658</th>\n",
       "      <td>FLCUSA</td>\n",
       "      <td>OEM</td>\n",
       "      <td>Houston OEM - (HOU)</td>\n",
       "      <td>XMIKALOR37-40MM</td>\n",
       "      <td>XMIKALOR37-40MM</td>\n",
       "      <td>MIKALOR CLAMP 37-40MM SRF16                   ...</td>\n",
       "      <td>SACCMCL</td>\n",
       "      <td>Mounting Clamps</td>\n",
       "      <td>481.0</td>\n",
       "      <td>1110.34</td>\n",
       "      <td>0.0</td>\n",
       "      <td>143.0</td>\n",
       "      <td>481.0</td>\n",
       "      <td>45394.2775</td>\n",
       "      <td>15</td>\n",
       "    </tr>\n",
       "    <tr>\n",
       "      <th>56659</th>\n",
       "      <td>FLCUSA</td>\n",
       "      <td>OEM</td>\n",
       "      <td>Houston OEM - (HOU)</td>\n",
       "      <td>XMIKALOR43-47MM</td>\n",
       "      <td>XMIKALOR43-47MM</td>\n",
       "      <td>MIKALOR CLAMP 43-47MM SRF20                   ...</td>\n",
       "      <td>SACCMCL</td>\n",
       "      <td>Mounting Clamps</td>\n",
       "      <td>135.0</td>\n",
       "      <td>402.3</td>\n",
       "      <td>0.0</td>\n",
       "      <td>0.0</td>\n",
       "      <td>135.0</td>\n",
       "      <td>45394.2775</td>\n",
       "      <td>15</td>\n",
       "    </tr>\n",
       "    <tr>\n",
       "      <th>56660</th>\n",
       "      <td>FLCUSA</td>\n",
       "      <td>OEM</td>\n",
       "      <td>Houston OEM - (HOU)</td>\n",
       "      <td>XTY25MX</td>\n",
       "      <td>XTY25MX</td>\n",
       "      <td>7 INCH NYL BLK CBL TIE</td>\n",
       "      <td>ZUBIMIS</td>\n",
       "      <td>Buy In Miscellaneous</td>\n",
       "      <td>3998.0</td>\n",
       "      <td>2197.31</td>\n",
       "      <td>0.0</td>\n",
       "      <td>3998.0</td>\n",
       "      <td>3998.0</td>\n",
       "      <td>45394.2775</td>\n",
       "      <td>15</td>\n",
       "    </tr>\n",
       "    <tr>\n",
       "      <th>56661</th>\n",
       "      <td>FLCUSA</td>\n",
       "      <td>OEM</td>\n",
       "      <td>Houston OEM - (HOU)</td>\n",
       "      <td>XTY27MX</td>\n",
       "      <td>XTY27MX</td>\n",
       "      <td>13 INCH NYL BLK CBL TIE</td>\n",
       "      <td>ZUBIMIS</td>\n",
       "      <td>Buy In Miscellaneous</td>\n",
       "      <td>2777.0</td>\n",
       "      <td>348.516</td>\n",
       "      <td>500.0</td>\n",
       "      <td>2777.0</td>\n",
       "      <td>2777.0</td>\n",
       "      <td>45394.2775</td>\n",
       "      <td>15</td>\n",
       "    </tr>\n",
       "  </tbody>\n",
       "</table>\n",
       "<p>56662 rows × 15 columns</p>\n",
       "</div>"
      ],
      "text/plain": [
       "            DataAreaID InventLocationID                         WarehouseName  \\\n",
       "0      RHAU                         030  Melbourne                              \n",
       "1      RHAU                         030  Melbourne                              \n",
       "2      RHAU                         030  Melbourne                              \n",
       "3      RHAU                         030  Melbourne                              \n",
       "4      RHAU                         030  Melbourne                              \n",
       "...                ...              ...                                   ...   \n",
       "56657  FLCUSA                       OEM                   Houston OEM - (HOU)   \n",
       "56658  FLCUSA                       OEM                   Houston OEM - (HOU)   \n",
       "56659  FLCUSA                       OEM                   Houston OEM - (HOU)   \n",
       "56660  FLCUSA                       OEM                   Houston OEM - (HOU)   \n",
       "56661  FLCUSA                       OEM                   Houston OEM - (HOU)   \n",
       "\n",
       "             ProductID GlobalProductNumber  \\\n",
       "0              10-10SS     10-10SS           \n",
       "1            10-21/ASC     10-21/ASC         \n",
       "2             10-21DGS     10-21DGS          \n",
       "3              10-21SS     10-21SS           \n",
       "4             10-21SS0     10-21SS0          \n",
       "...                ...                 ...   \n",
       "56657  XMIKALOR34-37MM     XMIKALOR34-37MM   \n",
       "56658  XMIKALOR37-40MM     XMIKALOR37-40MM   \n",
       "56659  XMIKALOR43-47MM     XMIKALOR43-47MM   \n",
       "56660          XTY25MX     XTY25MX           \n",
       "56661          XTY27MX     XTY27MX           \n",
       "\n",
       "                                      ProductDescription   ProductGroupID  \\\n",
       "0      M16X1.5 FEMALE NUT SS316                      ...  MADACOM           \n",
       "1      DGS1043 GR1 M20*1.5 FEMALE NUT                ...  MADACOM           \n",
       "2                             DGS1043 M20*1.5 FEMALE NUT  MADACOM           \n",
       "3      M20X1.5 FEMALE NUT SS316                      ...  MADACOM           \n",
       "4      SS316 M20* SLIP ON FEMALE NUT                 ...  MADACOM           \n",
       "...                                                  ...              ...   \n",
       "56657                              MIKALOR CLAMP 34-37MM  SACCMCL           \n",
       "56658  MIKALOR CLAMP 37-40MM SRF16                   ...  SACCMCL           \n",
       "56659  MIKALOR CLAMP 43-47MM SRF20                   ...  SACCMCL           \n",
       "56660                             7 INCH NYL BLK CBL TIE  ZUBIMIS           \n",
       "56661                            13 INCH NYL BLK CBL TIE  ZUBIMIS           \n",
       "\n",
       "                                   ProductGroup  StockOnHand StockValue  \\\n",
       "0      Adaptors Componentry                              2.0     9.5378   \n",
       "1      Adaptors Componentry                             79.0    452.733   \n",
       "2      Adaptors Componentry                             28.0    375.262   \n",
       "3      Adaptors Componentry                             27.0    123.863   \n",
       "4      Adaptors Componentry                              5.0    26.0945   \n",
       "...                                         ...          ...        ...   \n",
       "56657  Mounting Clamps                                 340.0    813.366   \n",
       "56658  Mounting Clamps                                 481.0    1110.34   \n",
       "56659  Mounting Clamps                                 135.0      402.3   \n",
       "56660                      Buy In Miscellaneous       3998.0    2197.31   \n",
       "56661                      Buy In Miscellaneous       2777.0    348.516   \n",
       "\n",
       "       QtyOnOrder  AvailForOrder  PhysicalInvent  InventDate  Week  \n",
       "0             0.0            2.0             2.0  45394.2775    15  \n",
       "1             0.0           79.0            79.0  45394.2775    15  \n",
       "2             0.0           28.0            28.0  45394.2775    15  \n",
       "3             0.0           27.0            27.0  45394.2775    15  \n",
       "4             0.0            5.0             5.0  45394.2775    15  \n",
       "...           ...            ...             ...         ...   ...  \n",
       "56657       600.0          260.0           340.0  45394.2775    15  \n",
       "56658         0.0          143.0           481.0  45394.2775    15  \n",
       "56659         0.0            0.0           135.0  45394.2775    15  \n",
       "56660         0.0         3998.0          3998.0  45394.2775    15  \n",
       "56661       500.0         2777.0          2777.0  45394.2775    15  \n",
       "\n",
       "[56662 rows x 15 columns]"
      ]
     },
     "execution_count": 16,
     "metadata": {},
     "output_type": "execute_result"
    }
   ],
   "source": [
    "query = '''\n",
    "        SELECT * \n",
    "            FROM StockData \n",
    "        ;\n",
    "            '''\n",
    "\n",
    "NewDF02 = pd.read_sql(query, cnxn)\n",
    "NewDF02"
   ]
  },
  {
   "cell_type": "code",
   "execution_count": null,
   "id": "83de48fa-764b-4b3d-b7fa-c6b3b47ffa3e",
   "metadata": {},
   "outputs": [],
   "source": []
  }
 ],
 "metadata": {
  "kernelspec": {
   "display_name": "Python 3 (ipykernel)",
   "language": "python",
   "name": "python3"
  },
  "language_info": {
   "codemirror_mode": {
    "name": "ipython",
    "version": 3
   },
   "file_extension": ".py",
   "mimetype": "text/x-python",
   "name": "python",
   "nbconvert_exporter": "python",
   "pygments_lexer": "ipython3",
   "version": "3.11.7"
  }
 },
 "nbformat": 4,
 "nbformat_minor": 5
}
